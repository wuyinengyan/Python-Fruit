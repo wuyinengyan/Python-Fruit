{
 "cells": [
  {
   "cell_type": "markdown",
   "metadata": {},
   "source": [
    "# 推导式简介"
   ]
  },
  {
   "cell_type": "code",
   "execution_count": 48,
   "metadata": {},
   "outputs": [
    {
     "name": "stdout",
     "output_type": "stream",
     "text": [
      "[0, 2, 4, 6, 8]\n",
      "{0: True, 1: False, 2: True, 3: False, 4: True, 5: False, 6: True, 7: False, 8: True, 9: False}\n",
      "{0, 2, 4, 6, 8}\n",
      "<generator object <genexpr> at 0x00000000051DC390>\n"
     ]
    }
   ],
   "source": [
    "li1 = [i for i in range(10) if not (i%2)]  # 数组推导式\n",
    "print(li1)\n",
    "dict1 = {i:i%2 == 0 for i in range(10)}  # 字典推导式\n",
    "print(dict1)\n",
    "set1 = {i for i in range(10) if not i & 1}  # 集合推导式\n",
    "print(set1)\n",
    "tuple1 = (i for i in range(10) if not (i%2))  # 生成器推导式，不是元组推导式\n",
    "print(tuple1)"
   ]
  },
  {
   "cell_type": "code",
   "execution_count": 3,
   "metadata": {},
   "outputs": [
    {
     "name": "stdout",
     "output_type": "stream",
     "text": [
      "0 2 4 6 8 "
     ]
    }
   ],
   "source": [
    "for i in tuple1:\n",
    "    print(i, end=\" \")"
   ]
  },
  {
   "cell_type": "code",
   "execution_count": 49,
   "metadata": {},
   "outputs": [
    {
     "name": "stdout",
     "output_type": "stream",
     "text": [
      "20 20\n"
     ]
    }
   ],
   "source": [
    "n1 = sum(i for i in range(10) if not i & 1)  # 更简洁\n",
    "n2 = sum((i for i in range(10) if not (i%2)))\n",
    "print(n1, n2)"
   ]
  },
  {
   "cell_type": "markdown",
   "metadata": {},
   "source": [
    "# 素数解析式"
   ]
  },
  {
   "cell_type": "code",
   "execution_count": 27,
   "metadata": {},
   "outputs": [],
   "source": [
    "import math\n",
    "\n",
    "\n",
    "# 基础版\n",
    "def mersenne1(n):\n",
    "    li = [i for i in range(2, n + 1) if not [j for j in range(2, i) if not i%j]]\n",
    "    print(li)\n",
    "\n",
    "# 语法复合版\n",
    "def mersenne2(n):\n",
    "    li = list(filter(lambda x: not [y for y in range(2, int(x ** 0.5) + 1) if not x%y], range(2, n + 1)))\n",
    "    print(li)\n",
    "    \n",
    "# 优化效率，可以继续排除3,5,7的倍数，提高效率\n",
    "# 两层循环需要考虑效率的问题\n",
    "def mersenne3(n):\n",
    "    li = [i for i in range(3, n + 1, 2) if not [j for j in range(3, int(math.sqrt(i)) + 1, 2) if not i%j]]\n",
    "    li.insert(0, 2)\n",
    "    print(li)\n",
    "    "
   ]
  },
  {
   "cell_type": "code",
   "execution_count": 28,
   "metadata": {},
   "outputs": [
    {
     "name": "stdout",
     "output_type": "stream",
     "text": [
      "[2, 3, 5, 7, 11, 13, 17, 19, 23, 29, 31, 37, 41, 43, 47, 53, 59, 61, 67, 71, 73, 79, 83, 89, 97]\n",
      "[2, 3, 5, 7, 11, 13, 17, 19, 23, 29, 31, 37, 41, 43, 47, 53, 59, 61, 67, 71, 73, 79, 83, 89, 97]\n",
      "[2, 3, 5, 7, 11, 13, 17, 19, 23, 29, 31, 37, 41, 43, 47, 53, 59, 61, 67, 71, 73, 79, 83, 89, 97]\n"
     ]
    }
   ],
   "source": [
    "mersenne1(100)\n",
    "mersenne2(100)\n",
    "mersenne3(100)"
   ]
  },
  {
   "cell_type": "code",
   "execution_count": 38,
   "metadata": {},
   "outputs": [
    {
     "name": "stdout",
     "output_type": "stream",
     "text": [
      "[2, 3, 5, 7, 11, 13, 17, 19, 23, 29, 31, 37, 41, 43, 47, 53, 59, 61, 67, 71, 73, 79, 83, 89, 97]\n"
     ]
    }
   ],
   "source": [
    "# 效率提升的第三版：\n",
    "# 提示：一个合数一定可以分解成几个素数的乘积\n",
    "def mersenne(n):\n",
    "    li = [2]\n",
    "    for i in range(3, n + 1, 2):\n",
    "        flag = False\n",
    "        lmt = int(i ** 0.5) + 1\n",
    "        for j in li:\n",
    "            if not i%j:  # 确定是合数\n",
    "                break\n",
    "            if j >= lmt:  # 确定是素数\n",
    "                flag = True\n",
    "                break\n",
    "        if flag:\n",
    "            li.append(i)\n",
    "    print(li)\n",
    "\n",
    "mersenne(100)"
   ]
  },
  {
   "cell_type": "markdown",
   "metadata": {},
   "source": [
    "# 斐波那契数列"
   ]
  },
  {
   "cell_type": "code",
   "execution_count": 14,
   "metadata": {},
   "outputs": [],
   "source": [
    "# 求n位斐波那契数列\n",
    "def fibonacci(n):\n",
    "    if n < 2:\n",
    "        print(\"输入错误！\")\n",
    "        return\n",
    "    \n",
    "    li1 = [1, 1]\n",
    "    [li1.append(li1[i - 1] + li1[i - 2]) for i in range(2, n)]\n",
    "    return li1[-1]\n",
    "\n",
    "# 更简洁，效率更高\n",
    "def fibonacci00(n):\n",
    "    if n < 2:\n",
    "        print(\"输入错误！\")\n",
    "        return\n",
    "    \n",
    "    li1 = [1, 1]\n",
    "    [li1.append(li1[-1] + li1[-2]) for i in range(2, n)]\n",
    "    return li1[-1]\n",
    "    \n",
    "# 递归法，更简洁，效率低下\n",
    "def recursion(n):\n",
    "    if n == 1 or n == 2:\n",
    "        return 1\n",
    "    elif n > 2:\n",
    "        return recursion(n - 1) + recursion(n - 2)\n",
    "    else:\n",
    "        return \"输入错误！\""
   ]
  },
  {
   "cell_type": "code",
   "execution_count": 18,
   "metadata": {},
   "outputs": [
    {
     "name": "stdout",
     "output_type": "stream",
     "text": [
      "14930352 14930352 14930352\n"
     ]
    }
   ],
   "source": [
    "print(fibonacci00(36), fibonacci(36), recursion(36))"
   ]
  },
  {
   "cell_type": "code",
   "execution_count": 15,
   "metadata": {},
   "outputs": [
    {
     "name": "stdout",
     "output_type": "stream",
     "text": [
      "8.65 µs ± 78.3 ns per loop (mean ± std. dev. of 7 runs, 100000 loops each)\n"
     ]
    }
   ],
   "source": [
    "%timeit fibonacci(36)"
   ]
  },
  {
   "cell_type": "code",
   "execution_count": 16,
   "metadata": {},
   "outputs": [
    {
     "name": "stdout",
     "output_type": "stream",
     "text": [
      "6.84 µs ± 243 ns per loop (mean ± std. dev. of 7 runs, 100000 loops each)\n"
     ]
    }
   ],
   "source": [
    "%timeit fibonacci00(36)"
   ]
  },
  {
   "cell_type": "code",
   "execution_count": 10,
   "metadata": {},
   "outputs": [
    {
     "name": "stdout",
     "output_type": "stream",
     "text": [
      "5.7 s ± 66.7 ms per loop (mean ± std. dev. of 7 runs, 1 loop each)\n"
     ]
    }
   ],
   "source": [
    "%timeit recursion(36)"
   ]
  },
  {
   "cell_type": "markdown",
   "metadata": {},
   "source": [
    "# 汉诺塔"
   ]
  },
  {
   "cell_type": "code",
   "execution_count": 29,
   "metadata": {},
   "outputs": [],
   "source": [
    "# 基础循环\n",
    "def basecircle(li1, li2, li3, n):\n",
    "    if n == 1:\n",
    "        li3.append(li1.pop())  # li1 => li3\n",
    "        return\n",
    "    else:\n",
    "        basecircle(li1, li3, li2, n - 1)  # li1 => li2\n",
    "        li3.append(li1.pop())  # 最低的那个元素：li1 => li3\n",
    "        basecircle(li2, li1, li3, n - 1)  # li2 => li3\n",
    "        \n",
    "def hanoi(n):\n",
    "    li1 = list(range(1, n + 1))[::-1]\n",
    "    li2 = []\n",
    "    li3 = []\n",
    "    print(li1, li2, li3)\n",
    "    basecircle(li1, li2, li3, n)\n",
    "    print(li1, li2, li3)"
   ]
  },
  {
   "cell_type": "code",
   "execution_count": 32,
   "metadata": {},
   "outputs": [
    {
     "name": "stdout",
     "output_type": "stream",
     "text": [
      "[5, 4, 3, 2, 1] [] []\n",
      "[] [] [5, 4, 3, 2, 1]\n"
     ]
    }
   ],
   "source": [
    "hanoi(5)"
   ]
  },
  {
   "cell_type": "code",
   "execution_count": 36,
   "metadata": {},
   "outputs": [],
   "source": [
    "# 详细打印版\n",
    "gl_step = 0  # 全局变量，总步数\n",
    "\n",
    "# 打印每一步的变化\n",
    "def printstep(li1, li2, li3, num):\n",
    "    x = y = z = []\n",
    "    # li1, li2, li3并不是最初的那三个了！\n",
    "    for li in [li1, li2, li3]:\n",
    "        if li[0] == 'x':  # 查找x开头的序列\n",
    "            x = li[1:]\n",
    "        elif li[0] == 'y':  # 查找y开头的序列\n",
    "            y = li[1:]\n",
    "        else:\n",
    "            z = li[1:]\n",
    "    print(\"第{0:02d}步：{1} {2} {3}\".format(num, x, y, z)) \n",
    "\n",
    "# 递归循环\n",
    "def basecircle(li1, li2, li3, n):\n",
    "    global gl_step  # 需要修改gl_step的值\n",
    "    \n",
    "    if n == 1:\n",
    "        li3.append(li1.pop())  # 只需要一步\n",
    "        gl_step += 1\n",
    "        printstep(li1, li2, li3, gl_step)\n",
    "    else:\n",
    "        basecircle(li1, li3, li2, n-1)  # 除n外的n-1个元素：li1 -> li2\n",
    "        \n",
    "        # 关键的一步：移动最大元素n li1 -> li3，依此分隔\n",
    "        li3.append(li1.pop())  # 移动最大元素的一步：依次逐层分隔\n",
    "        gl_step += 1\n",
    "        printstep(li1, li2, li3, gl_step)\n",
    "        \n",
    "        basecircle(li2, li1, li3, n-1)  # 除n外的n-1个元素：li2 -> li3\n",
    "    \n",
    "# 主函数\n",
    "# 目标：把li1的元素，逐个移到li3中\n",
    "def hanoi(n):\n",
    "    li1 = [\"x\"]  # x是标记符号，不用于显示，用于在PrintList区分各个序列\n",
    "    li2 = [\"y\"]  # y是标记符号，不用于显示，用于在PrintList区分各个序列\n",
    "    li3 = [\"z\"]  # z是标记符号，不用于显示，用于在PrintList区分各个序列\n",
    "    \n",
    "    [li1.append(i) for i in range(n, 0, -1)]  # 往li1中添加初始元素，倒序添加\n",
    "    printstep(li1, li2, li3, gl_step)  # 打印各序列的初始状态 \n",
    "    \n",
    "    basecircle(li1, li2, li3, n)  # 递归循环"
   ]
  },
  {
   "cell_type": "code",
   "execution_count": 37,
   "metadata": {},
   "outputs": [
    {
     "name": "stdout",
     "output_type": "stream",
     "text": [
      "第00步：[5, 4, 3, 2, 1] [] []\n",
      "第01步：[5, 4, 3, 2] [] [1]\n",
      "第02步：[5, 4, 3] [2] [1]\n",
      "第03步：[5, 4, 3] [2, 1] []\n",
      "第04步：[5, 4] [2, 1] [3]\n",
      "第05步：[5, 4, 1] [2] [3]\n",
      "第06步：[5, 4, 1] [] [3, 2]\n",
      "第07步：[5, 4] [] [3, 2, 1]\n",
      "第08步：[5] [4] [3, 2, 1]\n",
      "第09步：[5] [4, 1] [3, 2]\n",
      "第10步：[5, 2] [4, 1] [3]\n",
      "第11步：[5, 2, 1] [4] [3]\n",
      "第12步：[5, 2, 1] [4, 3] []\n",
      "第13步：[5, 2] [4, 3] [1]\n",
      "第14步：[5] [4, 3, 2] [1]\n",
      "第15步：[5] [4, 3, 2, 1] []\n",
      "第16步：[] [4, 3, 2, 1] [5]\n",
      "第17步：[1] [4, 3, 2] [5]\n",
      "第18步：[1] [4, 3] [5, 2]\n",
      "第19步：[] [4, 3] [5, 2, 1]\n",
      "第20步：[3] [4] [5, 2, 1]\n",
      "第21步：[3] [4, 1] [5, 2]\n",
      "第22步：[3, 2] [4, 1] [5]\n",
      "第23步：[3, 2, 1] [4] [5]\n",
      "第24步：[3, 2, 1] [] [5, 4]\n",
      "第25步：[3, 2] [] [5, 4, 1]\n",
      "第26步：[3] [2] [5, 4, 1]\n",
      "第27步：[3] [2, 1] [5, 4]\n",
      "第28步：[] [2, 1] [5, 4, 3]\n",
      "第29步：[1] [2] [5, 4, 3]\n",
      "第30步：[1] [] [5, 4, 3, 2]\n",
      "第31步：[] [] [5, 4, 3, 2, 1]\n"
     ]
    }
   ],
   "source": [
    "hanoi(5)"
   ]
  }
 ],
 "metadata": {
  "kernelspec": {
   "display_name": "Python 3",
   "language": "python",
   "name": "python3"
  },
  "language_info": {
   "codemirror_mode": {
    "name": "ipython",
    "version": 3
   },
   "file_extension": ".py",
   "mimetype": "text/x-python",
   "name": "python",
   "nbconvert_exporter": "python",
   "pygments_lexer": "ipython3",
   "version": "3.7.3"
  }
 },
 "nbformat": 4,
 "nbformat_minor": 2
}
