{
 "cells": [
  {
   "cell_type": "markdown",
   "metadata": {},
   "source": [
    "# 位运算符"
   ]
  },
  {
   "cell_type": "code",
   "execution_count": 2,
   "metadata": {},
   "outputs": [],
   "source": [
    "# 原码是直接将一个数值换算成二进制数。有符号整数的最高位是符号位，符号位为 0 代表正数，符号位为 1 代表负数。\n",
    "# 无符号整数则没有符号位，因此无符号整数只能表示 0 和正数。\n",
    "# 反码：正数的反码与其原码相同，负数的反码是对正数逐位取反，符号位保持为1。\n",
    "# 补码：正数的补码与其原码相同，负数的补码是其反码 + 1；"
   ]
  },
  {
   "cell_type": "code",
   "execution_count": 3,
   "metadata": {},
   "outputs": [],
   "source": [
    "# ！！！二进制数在内存中以补码的形式存储，所有运算都是针对补码的，之后再算回原码（补码的补码）\n",
    "\n",
    "# 位运算符  说明     使用形式  举例\n",
    "# &        按位与     a & b    4 & 5\n",
    "# |        按位或     a | b    4 | 5\n",
    "# ^        按位异或   a ^ b    4 ^ 5\n",
    "# ~        按位取反   ~a       ~4 \n",
    "# <<       按位左移   a << b   4 << 2，表示数字 4 按位左移 2 位\n",
    "# >>       按位右移   a >> b   4 >> 2，表示数字 4 按位右移 2 位"
   ]
  },
  {
   "cell_type": "code",
   "execution_count": 4,
   "metadata": {},
   "outputs": [
    {
     "data": {
      "text/plain": [
       "4"
      ]
     },
     "execution_count": 4,
     "metadata": {},
     "output_type": "execute_result"
    }
   ],
   "source": [
    "4 & 5  \n",
    "# 0000 0000 0000 0100 -> 4的原码\n",
    "# 0000 0000 0000 0101 -> 5的原码\n",
    "#                   & -> 按位与\n",
    "# 0000 0000 0000 0100 -> 4的原码"
   ]
  },
  {
   "cell_type": "code",
   "execution_count": 5,
   "metadata": {},
   "outputs": [
    {
     "name": "stdout",
     "output_type": "stream",
     "text": [
      "0\n",
      "1\n"
     ]
    }
   ],
   "source": [
    "# 判断奇偶数，效率比 i%2==0 略高\n",
    "print(4 & 1)  # 偶数的按位与 -> 0\n",
    "print(7 & 1)  # 奇数的按位与 -> 1"
   ]
  },
  {
   "cell_type": "code",
   "execution_count": 9,
   "metadata": {},
   "outputs": [
    {
     "data": {
      "text/plain": [
       "5"
      ]
     },
     "execution_count": 9,
     "metadata": {},
     "output_type": "execute_result"
    }
   ],
   "source": [
    "4 | 5  \n",
    "# 0000 0000 0000 0100 -> 4的补码 == 4的原码\n",
    "# 0000 0000 0000 0101 -> 5的补码 == 5的原码  \n",
    "#                   | -> 按位或\n",
    "# 0000 0000 0000 0101 -> 5的原码 == 5的补码"
   ]
  },
  {
   "cell_type": "code",
   "execution_count": 10,
   "metadata": {},
   "outputs": [
    {
     "data": {
      "text/plain": [
       "1"
      ]
     },
     "execution_count": 10,
     "metadata": {},
     "output_type": "execute_result"
    }
   ],
   "source": [
    "4 ^ 5  \n",
    "# 0000 0000 0000 0100 -> 4的补码 == 4的原码\n",
    "# 0000 0000 0000 0101 -> 5的补码 == 5的原码 \n",
    "#                   ^ -> 按位异或\n",
    "# 0000 0000 0000 0001 -> 1的原码 == 1的补码"
   ]
  },
  {
   "cell_type": "code",
   "execution_count": 11,
   "metadata": {},
   "outputs": [
    {
     "data": {
      "text/plain": [
       "-5"
      ]
     },
     "execution_count": 11,
     "metadata": {},
     "output_type": "execute_result"
    }
   ],
   "source": [
    "~4\n",
    "# 0000 0000 0000 0100 -> 补码：正数的补码与其原码相同\n",
    "# 1111 1111 1111 1011 -> 按位取反\n",
    "# 1000 0000 0000 0100 -> 反码：负数的反码是对正数逐位取反，符号位保持为1\n",
    "# 1000 0000 0000 0101 -> 补码：负数的补码是其反码 + 1"
   ]
  },
  {
   "cell_type": "code",
   "execution_count": 12,
   "metadata": {},
   "outputs": [
    {
     "data": {
      "text/plain": [
       "3"
      ]
     },
     "execution_count": 12,
     "metadata": {},
     "output_type": "execute_result"
    }
   ],
   "source": [
    "~-4\n",
    "# 1000 0000 0000 0100 -> -4的原码\n",
    "# 1111 1111 1111 1011 -> -4的反码：负数的反码是对正数逐位取反，符号位保持为1\n",
    "# 1111 1111 1111 1100 -> -4的补码\n",
    "# 0000 0000 0000 0011 -> 按位取反（补码形式），需要再次求其补码，即补码的补码 = 原码\n",
    "# 0000 0000 0000 0011 -> 补码：正数的补码与其原码相同"
   ]
  },
  {
   "cell_type": "code",
   "execution_count": 13,
   "metadata": {},
   "outputs": [
    {
     "name": "stdout",
     "output_type": "stream",
     "text": [
      "16\n",
      "1\n",
      "0\n"
     ]
    }
   ],
   "source": [
    "print(4 << 2)\n",
    "# 0000 0000 0000 0100 -> 4的补码 == 4的原码\n",
    "#                  << -> 左移2位\n",
    "# 0000 0000 0001 0000 -> 16的原码 == 16的补码\n",
    "print(4 >> 2)\n",
    "#                  >> -> 右移2位\n",
    "# 0000 0000 0000 0001 -> 1的原码 == 1的补码\n",
    "print(4 >> 4)\n",
    "#                  >> -> 右移4位\n",
    "# 0000 0000 0000 0000 -> 0的原码 == 0的补码"
   ]
  },
  {
   "cell_type": "code",
   "execution_count": null,
   "metadata": {},
   "outputs": [],
   "source": []
  }
 ],
 "metadata": {
  "kernelspec": {
   "display_name": "Python 3",
   "language": "python",
   "name": "python3"
  },
  "language_info": {
   "codemirror_mode": {
    "name": "ipython",
    "version": 3
   },
   "file_extension": ".py",
   "mimetype": "text/x-python",
   "name": "python",
   "nbconvert_exporter": "python",
   "pygments_lexer": "ipython3",
   "version": "3.7.3"
  }
 },
 "nbformat": 4,
 "nbformat_minor": 2
}
