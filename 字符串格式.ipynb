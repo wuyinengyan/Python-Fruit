{
 "cells": [
  {
   "cell_type": "markdown",
   "metadata": {},
   "source": [
    "# f-string"
   ]
  },
  {
   "cell_type": "code",
   "execution_count": 2,
   "metadata": {},
   "outputs": [],
   "source": [
    "# f字符串内，不能使用反斜杠"
   ]
  },
  {
   "cell_type": "markdown",
   "metadata": {},
   "source": [
    "# format"
   ]
  },
  {
   "cell_type": "code",
   "execution_count": 34,
   "metadata": {},
   "outputs": [
    {
     "name": "stdout",
     "output_type": "stream",
     "text": [
      "0000007\n",
      "7000000\n",
      "7xxxxxx\n",
      "7zzzzzz\n",
      "@@@7@@@\n",
      "xxx7xxx\n"
     ]
    }
   ],
   "source": [
    "print(\"{:>07d}\".format(7))  # 右对齐 (默认)\n",
    "print(\"{:<07d}\".format(7))  # 左对齐\n",
    "print(\"{:x<7d}\".format(7))  # 左对齐\n",
    "print(\"{0:z<7d}\".format(7))  # 左对齐\n",
    "print(\"{:@^07d}\".format(7))  # 中间对齐\n",
    "print(\"{:x^7d}\".format(7))  # 中间对齐"
   ]
  },
  {
   "cell_type": "code",
   "execution_count": 36,
   "metadata": {},
   "outputs": [
    {
     "name": "stdout",
     "output_type": "stream",
     "text": [
      "00003.1400\n",
      "+0003.1400\n",
      "-0003.1400\n"
     ]
    }
   ],
   "source": [
    "print(\"{:010.04f}\".format(3.14))  # \n",
    "print(\"{:+010.04f}\".format(3.14))  # 带符号保留小数点后两位，总位数包括符号和小数点在内\n",
    "print(\"{:010.04f}\".format(-3.14))  # 带符号保留小数点后两位，总位数包括符号和小数点在内"
   ]
  },
  {
   "cell_type": "code",
   "execution_count": 15,
   "metadata": {},
   "outputs": [
    {
     "name": "stdout",
     "output_type": "stream",
     "text": [
      "1,000,000\n",
      "25.00%\n",
      "1.00e+09\n"
     ]
    }
   ],
   "source": [
    "print(\"{:,}\".format(1000000))  # 以逗号分隔的数字格式\n",
    "print(\"{:.2%}\".format(0.25))  # 百分比格式\n",
    "print(\"{:.2e}\".format(1000000000))  # 指数记法"
   ]
  },
  {
   "cell_type": "markdown",
   "metadata": {},
   "source": [
    "# 补齐字符串"
   ]
  },
  {
   "cell_type": "code",
   "execution_count": 12,
   "metadata": {},
   "outputs": [
    {
     "name": "stdout",
     "output_type": "stream",
     "text": [
      "bbbaaaaaaa aaaaaaabbb aaabbbaaaa\n",
      "00002\n"
     ]
    }
   ],
   "source": [
    "# 常用的三种方法\n",
    "print(\"bbb\".ljust(10, 'a'), \"bbb\".rjust(10, 'a'), \"bbb\".center(10, 'a'))\n",
    "\n",
    "# 特殊用法：zfill(width)指定字符串长度，右对齐，前面补充0\n",
    "print(\"2\".zfill(5))"
   ]
  },
  {
   "cell_type": "markdown",
   "metadata": {},
   "source": [
    "# 画菱形"
   ]
  },
  {
   "cell_type": "code",
   "execution_count": 3,
   "metadata": {},
   "outputs": [
    {
     "name": "stdout",
     "output_type": "stream",
     "text": [
      "N阶：7\n",
      "---*---\n",
      "--***--\n",
      "-*****-\n",
      "*******\n",
      "-*****-\n",
      "--***--\n",
      "---*---\n"
     ]
    }
   ],
   "source": [
    "# 基础版\n",
    "def diamond(n):\n",
    "    for i in range(n):\n",
    "        if i > n//2:  # 镜像，过半后，转化为上半部分\n",
    "            i = n - 1 - i \n",
    "        print(f\"{'*' * (i * 2 + 1):-^{n}}\")  # ^:居中\n",
    "        # f-string不能用反斜杠\n",
    "        # print(\"{: ^{}}\".format(\"*\" * (1 + 2*i), n))\n",
    "\n",
    "n = int(input(\"N阶：\"))  # n必须是奇数，最好加判断\n",
    "diamond(n)"
   ]
  },
  {
   "cell_type": "code",
   "execution_count": 4,
   "metadata": {},
   "outputs": [
    {
     "name": "stdout",
     "output_type": "stream",
     "text": [
      "---*\n",
      "--***\n",
      "-*****\n",
      "*******\n",
      "-*****\n",
      "--***\n",
      "---*\n"
     ]
    }
   ],
   "source": [
    "# 极度精简版\n",
    "def diamond(n):\n",
    "    # 最中心的坐标为(0, 0)\n",
    "    for i in range(n//2 * -1, n//2 + 1):  # range(-3, 4)；-7//2 = -4\n",
    "        print(\"-\" * abs(i) + \"*\" * (n - 2 * abs(i)))\n",
    "        \n",
    "diamond(7)"
   ]
  },
  {
   "cell_type": "markdown",
   "metadata": {},
   "source": [
    "# 九九乘法表"
   ]
  },
  {
   "cell_type": "code",
   "execution_count": 9,
   "metadata": {},
   "outputs": [
    {
     "name": "stdout",
     "output_type": "stream",
     "text": [
      "1*1=1  \n",
      "1*2=2  2*2=4   \n",
      "1*3=3  2*3=6   3*3=9   \n",
      "1*4=4  2*4=8   3*4=12  4*4=16  \n",
      "1*5=5  2*5=10  3*5=15  4*5=20  5*5=25  \n",
      "1*6=6  2*6=12  3*6=18  4*6=24  5*6=30  6*6=36  \n",
      "1*7=7  2*7=14  3*7=21  4*7=28  5*7=35  6*7=42  7*7=49  \n",
      "1*8=8  2*8=16  3*8=24  4*8=32  5*8=40  6*8=48  7*8=56  8*8=64  \n",
      "1*9=9  2*9=18  3*9=27  4*9=36  5*9=45  6*9=54  7*9=63  8*9=72  9*9=81  \n",
      "\n"
     ]
    }
   ],
   "source": [
    "# 一行代码打印九九乘法表\n",
    "[print(\"{}*{}={:<{}} \".format(y, x, x*y, 2 if y==1 else 3), end=\"\\n\" if x==y else \"\") for x in range(1, 10) for y in range(1, x+1)]\n",
    "print()"
   ]
  },
  {
   "cell_type": "code",
   "execution_count": 7,
   "metadata": {},
   "outputs": [
    {
     "name": "stdout",
     "output_type": "stream",
     "text": [
      "1*1=1  1*2=2  1*3=3  1*4=4   1*5=5   1*6=6   1*7=7   1*8=8   1*9=9   \n",
      "       2*2=4  2*3=6  2*4=8   2*5=10  2*6=12  2*7=14  2*8=16  2*9=18  \n",
      "              3*3=9  3*4=12  3*5=15  3*6=18  3*7=21  3*8=24  3*9=27  \n",
      "                     4*4=16  4*5=20  4*6=24  4*7=28  4*8=32  4*9=36  \n",
      "                             5*5=25  5*6=30  5*7=35  5*8=40  5*9=45  \n",
      "                                     6*6=36  6*7=42  6*8=48  6*9=54  \n",
      "                                             7*7=49  7*8=56  7*9=63  \n",
      "                                                     8*8=64  8*9=72  \n",
      "                                                             9*9=81  \n"
     ]
    }
   ],
   "source": [
    "# 右对齐打印九九乘法表\n",
    "for i in range(1, 10):\n",
    "    str1 = \"\"\n",
    "    for j in range(i, 10):\n",
    "        str1 += \"{}*{}={:<{}}\".format(i, j, i*j, 3 if j < 4 else 4)\n",
    "    print(str1.rjust(69)) # == print(\"{:>69}\".format(str1))  字符串右对齐打印"
   ]
  },
  {
   "cell_type": "code",
   "execution_count": null,
   "metadata": {},
   "outputs": [],
   "source": []
  }
 ],
 "metadata": {
  "kernelspec": {
   "display_name": "Python 3",
   "language": "python",
   "name": "python3"
  },
  "language_info": {
   "codemirror_mode": {
    "name": "ipython",
    "version": 3
   },
   "file_extension": ".py",
   "mimetype": "text/x-python",
   "name": "python",
   "nbconvert_exporter": "python",
   "pygments_lexer": "ipython3",
   "version": "3.7.3"
  }
 },
 "nbformat": 4,
 "nbformat_minor": 2
}
